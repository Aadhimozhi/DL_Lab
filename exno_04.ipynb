{
  "nbformat": 4,
  "nbformat_minor": 0,
  "metadata": {
    "colab": {
      "provenance": [],
      "authorship_tag": "ABX9TyPDIxOUrsGhDx/HUGfKgOtK",
      "include_colab_link": true
    },
    "kernelspec": {
      "name": "python3",
      "display_name": "Python 3"
    },
    "language_info": {
      "name": "python"
    }
  },
  "cells": [
    {
      "cell_type": "markdown",
      "metadata": {
        "id": "view-in-github",
        "colab_type": "text"
      },
      "source": [
        "<a href=\"https://colab.research.google.com/github/Aadhimozhi/DL_Lab/blob/main/exno_04.ipynb\" target=\"_parent\"><img src=\"https://colab.research.google.com/assets/colab-badge.svg\" alt=\"Open In Colab\"/></a>"
      ]
    },
    {
      "cell_type": "code",
      "execution_count": null,
      "metadata": {
        "id": "6eyCMOVfO50B"
      },
      "outputs": [],
      "source": [
        "import os\n",
        "import tarfile\n",
        "import urllib.request\n",
        "import tensorflow as tf\n",
        "from tensorflow.keras import layers\n",
        "import re\n",
        "import string"
      ]
    },
    {
      "cell_type": "code",
      "source": [
        "url = \"https://ai.stanford.edu/~amaas/data/sentiment/aclImdb_v1.tar.gz\"\n",
        "urllib.request.urlretrieve(url, \"aclImdb_v1.tar.gz\")\n",
        "with tarfile.open(\"aclImdb_v1.tar.gz\", \"r:gz\") as tar:\n",
        "    tar.extractall()"
      ],
      "metadata": {
        "id": "t-sOzqUuPGy_"
      },
      "execution_count": null,
      "outputs": []
    },
    {
      "cell_type": "code",
      "source": [
        "train_dir = os.path.join(\"aclImdb\", \"train\")\n",
        "test_dir = os.path.join(\"aclImdb\", \"test\")\n",
        "os.system(f\"rm -rf {os.path.join(train_dir, 'unsup')}\")"
      ],
      "metadata": {
        "colab": {
          "base_uri": "https://localhost:8080/"
        },
        "id": "zD5CyT83PUTY",
        "outputId": "edb2fd6f-5ac1-4c17-8970-88562a2ce3c1"
      },
      "execution_count": null,
      "outputs": [
        {
          "output_type": "execute_result",
          "data": {
            "text/plain": [
              "0"
            ]
          },
          "metadata": {},
          "execution_count": 3
        }
      ]
    },
    {
      "cell_type": "code",
      "source": [
        "batch_size = 32\n",
        "raw_train = tf.keras.utils.text_dataset_from_directory(\n",
        "    train_dir, batch_size=batch_size, validation_split=0.2,\n",
        "    subset='training', seed=42)\n",
        "raw_val = tf.keras.utils.text_dataset_from_directory(\n",
        "    train_dir, batch_size=batch_size, validation_split=0.2,\n",
        "    subset='validation', seed=42)\n",
        "raw_test = tf.keras.utils.text_dataset_from_directory(\n",
        "    test_dir, batch_size=batch_size)"
      ],
      "metadata": {
        "id": "uqWubkXpPhFG",
        "colab": {
          "base_uri": "https://localhost:8080/"
        },
        "outputId": "0a01fa6b-610f-462a-ccd2-6ccc76afd2ba"
      },
      "execution_count": null,
      "outputs": [
        {
          "output_type": "stream",
          "name": "stdout",
          "text": [
            "Found 25000 files belonging to 2 classes.\n",
            "Using 20000 files for training.\n",
            "Found 25000 files belonging to 2 classes.\n",
            "Using 5000 files for validation.\n",
            "Found 25000 files belonging to 2 classes.\n"
          ]
        }
      ]
    },
    {
      "cell_type": "code",
      "source": [
        "def custom_standardization(text):\n",
        "    text = tf.strings.lower(text)\n",
        "    text = tf.strings.regex_replace(text, \"<br />\", \" \")\n",
        "    return tf.strings.regex_replace(text, f\"[{re.escape(string.punctuation)}]\", \"\")\n",
        "\n",
        "vectorizer = layers.TextVectorization(\n",
        "    standardize=custom_standardization,\n",
        "    max_tokens=10000,\n",
        "    output_mode='int',\n",
        "    output_sequence_length=250)\n",
        "\n",
        "vectorizer.adapt(raw_train.map(lambda x, y: x))\n"
      ],
      "metadata": {
        "id": "mnZzsEZePy9u"
      },
      "execution_count": null,
      "outputs": []
    },
    {
      "cell_type": "code",
      "source": [
        "def vectorize(text, label):\n",
        "    return vectorizer(text), label\n",
        "\n",
        "AUTOTUNE = tf.data.AUTOTUNE\n",
        "train_ds = raw_train.map(vectorize).cache().prefetch(AUTOTUNE)\n",
        "val_ds = raw_val.map(vectorize).cache().prefetch(AUTOTUNE)\n",
        "test_ds = raw_test.map(vectorize).cache().prefetch(AUTOTUNE)\n",
        "\n",
        "# Model\n",
        "model = tf.keras.Sequential([\n",
        "    layers.Embedding(10001, 16),\n",
        "    layers.Conv1D(8, 7, activation=\"relu\"),\n",
        "    layers.GlobalAveragePooling1D(),\n",
        "    layers.Dropout(0.2),\n",
        "    layers.Dense(8, activation=\"relu\"),\n",
        "    layers.Dense(1)\n",
        "])\n",
        "\n",
        "model.compile(optimizer='adam',\n",
        "              loss=tf.keras.losses.BinaryCrossentropy(from_logits=True),\n",
        "              metrics=['accuracy'])\n",
        "\n",
        "# Train\n",
        "model.fit(train_ds, validation_data=val_ds, epochs=10)\n",
        "\n",
        "# Evaluate\n",
        "loss, acc = model.evaluate(test_ds)\n",
        "print(\"Test Accuracy:\", acc)\n",
        "\n",
        "# Export and inference\n",
        "export_model = tf.keras.Sequential([\n",
        "    vectorizer, model, layers.Activation(\"sigmoid\")\n",
        "])\n",
        "export_model.compile(loss=\"binary_crossentropy\", optimizer=\"adam\", metrics=[\"accuracy\"])\n",
        "export_model.save(\"sentiment_model.keras\")\n",
        "\n",
        "# Inference\n",
        "reviews = tf.constant([\n",
        "    \"The movie is very boring\",\n",
        "    \"A Good Movie\",\n",
        "    \"very bad worst movie\",\n",
        "    \"Worst movie, boring\"\n",
        "])\n",
        "predictions = export_model(reviews)\n",
        "for r, p in zip(reviews, predictions):\n",
        "    print(f\"{r.numpy().decode():<30} : {p.numpy().squeeze():.3f}\")\n"
      ],
      "metadata": {
        "id": "YqGC6apeQXr_",
        "colab": {
          "base_uri": "https://localhost:8080/"
        },
        "outputId": "6c632ece-dd21-4e1b-905f-19136872b2bb"
      },
      "execution_count": null,
      "outputs": [
        {
          "output_type": "stream",
          "name": "stdout",
          "text": [
            "Epoch 1/10\n",
            "\u001b[1m625/625\u001b[0m \u001b[32m━━━━━━━━━━━━━━━━━━━━\u001b[0m\u001b[37m\u001b[0m \u001b[1m12s\u001b[0m 15ms/step - accuracy: 0.5690 - loss: 0.6385 - val_accuracy: 0.8250 - val_loss: 0.3566\n",
            "Epoch 2/10\n",
            "\u001b[1m625/625\u001b[0m \u001b[32m━━━━━━━━━━━━━━━━━━━━\u001b[0m\u001b[37m\u001b[0m \u001b[1m7s\u001b[0m 10ms/step - accuracy: 0.8535 - loss: 0.3438 - val_accuracy: 0.8596 - val_loss: 0.2942\n",
            "Epoch 3/10\n",
            "\u001b[1m625/625\u001b[0m \u001b[32m━━━━━━━━━━━━━━━━━━━━\u001b[0m\u001b[37m\u001b[0m \u001b[1m8s\u001b[0m 13ms/step - accuracy: 0.8887 - loss: 0.2718 - val_accuracy: 0.8680 - val_loss: 0.2818\n",
            "Epoch 4/10\n",
            "\u001b[1m625/625\u001b[0m \u001b[32m━━━━━━━━━━━━━━━━━━━━\u001b[0m\u001b[37m\u001b[0m \u001b[1m10s\u001b[0m 12ms/step - accuracy: 0.9079 - loss: 0.2303 - val_accuracy: 0.8678 - val_loss: 0.2892\n",
            "Epoch 5/10\n",
            "\u001b[1m625/625\u001b[0m \u001b[32m━━━━━━━━━━━━━━━━━━━━\u001b[0m\u001b[37m\u001b[0m \u001b[1m10s\u001b[0m 11ms/step - accuracy: 0.9170 - loss: 0.1978 - val_accuracy: 0.8666 - val_loss: 0.2951\n",
            "Epoch 6/10\n",
            "\u001b[1m625/625\u001b[0m \u001b[32m━━━━━━━━━━━━━━━━━━━━\u001b[0m\u001b[37m\u001b[0m \u001b[1m10s\u001b[0m 10ms/step - accuracy: 0.9348 - loss: 0.1671 - val_accuracy: 0.8734 - val_loss: 0.3084\n",
            "Epoch 7/10\n",
            "\u001b[1m625/625\u001b[0m \u001b[32m━━━━━━━━━━━━━━━━━━━━\u001b[0m\u001b[37m\u001b[0m \u001b[1m8s\u001b[0m 12ms/step - accuracy: 0.9434 - loss: 0.1484 - val_accuracy: 0.8758 - val_loss: 0.3302\n",
            "Epoch 8/10\n",
            "\u001b[1m625/625\u001b[0m \u001b[32m━━━━━━━━━━━━━━━━━━━━\u001b[0m\u001b[37m\u001b[0m \u001b[1m6s\u001b[0m 10ms/step - accuracy: 0.9479 - loss: 0.1324 - val_accuracy: 0.8734 - val_loss: 0.3524\n",
            "Epoch 9/10\n",
            "\u001b[1m625/625\u001b[0m \u001b[32m━━━━━━━━━━━━━━━━━━━━\u001b[0m\u001b[37m\u001b[0m \u001b[1m8s\u001b[0m 12ms/step - accuracy: 0.9560 - loss: 0.1146 - val_accuracy: 0.8594 - val_loss: 0.3796\n",
            "Epoch 10/10\n",
            "\u001b[1m625/625\u001b[0m \u001b[32m━━━━━━━━━━━━━━━━━━━━\u001b[0m\u001b[37m\u001b[0m \u001b[1m10s\u001b[0m 12ms/step - accuracy: 0.9621 - loss: 0.1007 - val_accuracy: 0.8674 - val_loss: 0.4053\n",
            "\u001b[1m782/782\u001b[0m \u001b[32m━━━━━━━━━━━━━━━━━━━━\u001b[0m\u001b[37m\u001b[0m \u001b[1m4s\u001b[0m 6ms/step - accuracy: 0.8431 - loss: 0.4704\n",
            "Test Accuracy: 0.8458799719810486\n"
          ]
        },
        {
          "output_type": "stream",
          "name": "stderr",
          "text": [
            "/usr/local/lib/python3.11/dist-packages/keras/src/saving/saving_api.py:107: UserWarning: You are saving a model that has not yet been built. It might not contain any weights yet. Consider building the model first by calling it on some data.\n",
            "  return saving_lib.save_model(model, filepath)\n"
          ]
        },
        {
          "output_type": "stream",
          "name": "stdout",
          "text": [
            "The movie is very boring       : 0.148\n",
            "A Good Movie                   : 0.307\n",
            "very bad worst movie           : 0.087\n",
            "Worst movie, boring            : 0.167\n"
          ]
        }
      ]
    },
    {
      "cell_type": "code",
      "source": [],
      "metadata": {
        "id": "J_m6hkfon6zp"
      },
      "execution_count": null,
      "outputs": []
    }
  ]
}